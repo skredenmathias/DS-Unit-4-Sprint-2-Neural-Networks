{
  "nbformat": 4,
  "nbformat_minor": 0,
  "metadata": {
    "colab": {
      "name": "LS_DS_433_Keras_Assignment.ipynb",
      "provenance": [],
      "include_colab_link": true
    },
    "kernelspec": {
      "display_name": "Python 3",
      "language": "python",
      "name": "python3"
    },
    "language_info": {
      "codemirror_mode": {
        "name": "ipython",
        "version": 3
      },
      "file_extension": ".py",
      "mimetype": "text/x-python",
      "name": "python",
      "nbconvert_exporter": "python",
      "pygments_lexer": "ipython3",
      "version": "3.7.3"
    }
  },
  "cells": [
    {
      "cell_type": "markdown",
      "metadata": {
        "id": "view-in-github",
        "colab_type": "text"
      },
      "source": [
        "<a href=\"https://colab.research.google.com/github/skredenmathias/DS-Unit-4-Sprint-2-Neural-Networks/blob/master/module3-Intro-to-Keras/LS_DS_433_Keras_Assignment.ipynb\" target=\"_parent\"><img src=\"https://colab.research.google.com/assets/colab-badge.svg\" alt=\"Open In Colab\"/></a>"
      ]
    },
    {
      "cell_type": "markdown",
      "metadata": {
        "colab_type": "text",
        "id": "pBQsZEJmubLs"
      },
      "source": [
        "<img align=\"left\" src=\"https://lever-client-logos.s3.amazonaws.com/864372b1-534c-480e-acd5-9711f850815c-1524247202159.png\" width=200>\n",
        "<br></br>\n",
        "\n",
        "# Neural Network Framework (Keras)\n",
        "\n",
        "## *Data Science Unit 4 Sprint 2 Assignmnet 3*\n",
        "\n",
        "## Use the Keras Library to build a Multi-Layer Perceptron Model on the Boston Housing dataset\n",
        "\n",
        "- The Boston Housing dataset comes with the Keras library so use Keras to import it into your notebook. \n",
        "- Normalize the data (all features should have roughly the same scale)\n",
        "- Import the type of model and layers that you will need from Keras.\n",
        "- Instantiate a model object and use `model.add()` to add layers to your model\n",
        "- Since this is a regression model you will have a single output node in the final layer.\n",
        "- Use activation functions that are appropriate for this task\n",
        "- Compile your model\n",
        "- Fit your model and report its accuracy in terms of Mean Squared Error\n",
        "- Use the history object that is returned from model.fit to make graphs of the model's loss or train/validation accuracies by epoch. \n",
        "- Run this same data through a linear regression model. Which achieves higher accuracy?\n",
        "- Do a little bit of feature engineering and see how that affects your neural network model. (you will need to change your model to accept more inputs)\n",
        "- After feature engineering, which model sees a greater accuracy boost due to the new features?"
      ]
    },
    {
      "cell_type": "code",
      "metadata": {
        "colab_type": "code",
        "id": "8NLTAR87uYJ-",
        "colab": {}
      },
      "source": [
        "from tensorflow.keras.models import Sequential, Model\n",
        "from tensorflow.keras.layers import Dense\n",
        "import pandas as pd\n",
        "import numpy as np\n",
        "import matplotlib.pyplot as plt\n",
        "from keras.datasets import boston_housing\n",
        "from sklearn.preprocessing import OneHotEncoder\n",
        "from sklearn.preprocessing import StandardScaler, MinMaxScaler\n",
        "from sklearn.pipeline import Pipeline\n",
        "from sklearn.linear_model import LinearRegression\n",
        "from sklearn.metrics import mean_squared_error"
      ],
      "execution_count": 0,
      "outputs": []
    },
    {
      "cell_type": "code",
      "metadata": {
        "id": "e6lQhNymQP2P",
        "colab_type": "code",
        "colab": {}
      },
      "source": [
        "(x_train, y_train), (x_test, y_test) = boston_housing.load_data()\n",
        "test = boston_housing.load_data()"
      ],
      "execution_count": 0,
      "outputs": []
    },
    {
      "cell_type": "code",
      "metadata": {
        "id": "Z-Mwy3QoS_92",
        "colab_type": "code",
        "colab": {
          "base_uri": "https://localhost:8080/",
          "height": 34
        },
        "outputId": "93e717c6-b083-4699-e44d-4c59a015a873"
      },
      "source": [
        "x_train.shape, y_train.shape, x_test.shape, y_test.shape"
      ],
      "execution_count": 10,
      "outputs": [
        {
          "output_type": "execute_result",
          "data": {
            "text/plain": [
              "((404, 13), (404,), (102, 13), (102,))"
            ]
          },
          "metadata": {
            "tags": []
          },
          "execution_count": 10
        }
      ]
    },
    {
      "cell_type": "code",
      "metadata": {
        "id": "-i310Pz-TFJ7",
        "colab_type": "code",
        "colab": {}
      },
      "source": [
        "# Preprocess y\n",
        "y_train = y_train.reshape(-1,1)\n",
        "y_test = y_test.reshape(-1,1)"
      ],
      "execution_count": 0,
      "outputs": []
    },
    {
      "cell_type": "code",
      "metadata": {
        "id": "aRsmVzcRPeMW",
        "colab_type": "code",
        "colab": {}
      },
      "source": [
        "# Normalize the data\n",
        "# scaler = StandardScaler()\n",
        "scaler = MinMaxScaler()"
      ],
      "execution_count": 0,
      "outputs": []
    },
    {
      "cell_type": "code",
      "metadata": {
        "id": "e5eyobLbS744",
        "colab_type": "code",
        "colab": {}
      },
      "source": [
        ""
      ],
      "execution_count": 0,
      "outputs": []
    },
    {
      "cell_type": "code",
      "metadata": {
        "id": "q6K5VgeyPePh",
        "colab_type": "code",
        "colab": {}
      },
      "source": [
        "# Fit transform train, transform test\n",
        "x_train = scaler.fit_transform(x_train)\n",
        "\n",
        "x_test = scaler.transform(x_test)\n",
        "\n",
        "# scaler = StandardScaler()\n",
        "scaler = MinMaxScaler()\n",
        "y_train = scaler.fit_transform(y_train)\n",
        "y_test = scaler.transform(y_test)"
      ],
      "execution_count": 0,
      "outputs": []
    },
    {
      "cell_type": "code",
      "metadata": {
        "id": "WaWOC3AHPebq",
        "colab_type": "code",
        "colab": {
          "base_uri": "https://localhost:8080/",
          "height": 289
        },
        "outputId": "c2e38300-16fb-4a56-d0eb-46ed0c9a2f2b"
      },
      "source": [
        "# Instantiate model, use model.add() to add layers\n",
        "model = Sequential(name='Boston')\n",
        "model.add(Dense(20, input_dim=13, activation='relu'))\n",
        "model.add(Dense(20, activation='relu'))\n",
        "model.add(Dense(20, activation='relu'))\n",
        "model.add(Dense(1))\n",
        "\n",
        "model.compile(optimizer='adam',\n",
        "              loss='mse',\n",
        "              metrics=['mse', 'mae'])\n",
        "model.summary()"
      ],
      "execution_count": 70,
      "outputs": [
        {
          "output_type": "stream",
          "text": [
            "Model: \"Boston\"\n",
            "_________________________________________________________________\n",
            "Layer (type)                 Output Shape              Param #   \n",
            "=================================================================\n",
            "dense_8 (Dense)              (None, 20)                280       \n",
            "_________________________________________________________________\n",
            "dense_9 (Dense)              (None, 20)                420       \n",
            "_________________________________________________________________\n",
            "dense_10 (Dense)             (None, 20)                420       \n",
            "_________________________________________________________________\n",
            "dense_11 (Dense)             (None, 1)                 21        \n",
            "=================================================================\n",
            "Total params: 1,141\n",
            "Trainable params: 1,141\n",
            "Non-trainable params: 0\n",
            "_________________________________________________________________\n"
          ],
          "name": "stdout"
        }
      ]
    },
    {
      "cell_type": "code",
      "metadata": {
        "id": "90YSPBQMPefQ",
        "colab_type": "code",
        "colab": {}
      },
      "source": [
        "history = model.fit(x_train, y_train, epochs=400, validation_split=.10, verbose=0)"
      ],
      "execution_count": 0,
      "outputs": []
    },
    {
      "cell_type": "code",
      "metadata": {
        "id": "kRNZdaWUPemp",
        "colab_type": "code",
        "colab": {
          "base_uri": "https://localhost:8080/",
          "height": 34
        },
        "outputId": "3e1f91db-9f60-41ba-de3c-ecf739603faa"
      },
      "source": [
        "type(history)"
      ],
      "execution_count": 17,
      "outputs": [
        {
          "output_type": "execute_result",
          "data": {
            "text/plain": [
              "tensorflow.python.keras.callbacks.History"
            ]
          },
          "metadata": {
            "tags": []
          },
          "execution_count": 17
        }
      ]
    },
    {
      "cell_type": "code",
      "metadata": {
        "id": "XxRZ4inqPepS",
        "colab_type": "code",
        "colab": {}
      },
      "source": [
        "dir(history)"
      ],
      "execution_count": 0,
      "outputs": []
    },
    {
      "cell_type": "code",
      "metadata": {
        "id": "1OriHQwWPer9",
        "colab_type": "code",
        "colab": {
          "base_uri": "https://localhost:8080/",
          "height": 265
        },
        "outputId": "6566c463-cbbd-474c-b93c-12a7e33f5e5f"
      },
      "source": [
        "plt.plot(history.epoch, history.history['loss']);"
      ],
      "execution_count": 72,
      "outputs": [
        {
          "output_type": "display_data",
          "data": {
            "image/png": "[encoded data removed]",
            "text/plain": [
              "<Figure size 432x288 with 1 Axes>"
            ]
          },
          "metadata": {
            "tags": []
          }
        }
      ]
    },
    {
      "cell_type": "code",
      "metadata": {
        "id": "H3NiZoddc-Pb",
        "colab_type": "code",
        "colab": {
          "base_uri": "https://localhost:8080/",
          "height": 34
        },
        "outputId": "7a726faf-6d74-40b6-ec3b-11310db89c2b"
      },
      "source": [
        "# NN did a little better\n",
        "y_pred = model.predict(x_test)\n",
        "\n",
        "mean_squared_error(y_test, y_pred)"
      ],
      "execution_count": 73,
      "outputs": [
        {
          "output_type": "execute_result",
          "data": {
            "text/plain": [
              "0.00848599228149296"
            ]
          },
          "metadata": {
            "tags": []
          },
          "execution_count": 73
        }
      ]
    },
    {
      "cell_type": "code",
      "metadata": {
        "id": "76ESxkZ2PfQ_",
        "colab_type": "code",
        "colab": {
          "base_uri": "https://localhost:8080/",
          "height": 34
        },
        "outputId": "113edd5a-6770-48fd-d7bc-472ce27e5ace"
      },
      "source": [
        "# Linear Regression\n",
        "reg = LinearRegression()\n",
        "reg.fit(x_train, y_train)\n",
        "y_pred = reg.predict(x_test)\n",
        "mse = mean_squared_error(y_test, y_pred)\n",
        "mse"
      ],
      "execution_count": 74,
      "outputs": [
        {
          "output_type": "execute_result",
          "data": {
            "text/plain": [
              "0.011454616916752059"
            ]
          },
          "metadata": {
            "tags": []
          },
          "execution_count": 74
        }
      ]
    },
    {
      "cell_type": "markdown",
      "metadata": {
        "colab_type": "text",
        "id": "SfcFnOONyuNm"
      },
      "source": [
        "## Use the Keras Library to build an image recognition network using the Fashion-MNIST dataset (also comes with keras)\n",
        "\n",
        "- Load and preprocess the image data similar to how we preprocessed the MNIST data in class.\n",
        "- Make sure to one-hot encode your category labels\n",
        "- Make sure to have your final layer have as many nodes as the number of classes that you want to predict.\n",
        "- Try different hyperparameters. What is the highest accuracy that you are able to achieve.\n",
        "- Use the history object that is returned from model.fit to make graphs of the model's loss or train/validation accuracies by epoch. \n",
        "- Remember that neural networks fall prey to randomness so you may need to run your model multiple times (or use Cross Validation) in order to tell if a change to a hyperparameter is truly producing better results."
      ]
    },
    {
      "cell_type": "code",
      "metadata": {
        "colab_type": "code",
        "id": "szi6-IpuzaH1",
        "colab": {}
      },
      "source": [
        "from keras.datasets import fashion_mnist\n",
        "\n",
        "(x_train, y_train), (x_test, y_test) = fashion_mnist.load_data()"
      ],
      "execution_count": 0,
      "outputs": []
    },
    {
      "cell_type": "code",
      "metadata": {
        "id": "RgrZyvUXgOhE",
        "colab_type": "code",
        "colab": {}
      },
      "source": [
        "x_train"
      ],
      "execution_count": 0,
      "outputs": []
    },
    {
      "cell_type": "code",
      "metadata": {
        "id": "9ddag4uRgun8",
        "colab_type": "code",
        "colab": {}
      },
      "source": [
        "pd.Series(y_train).value_counts()"
      ],
      "execution_count": 0,
      "outputs": []
    },
    {
      "cell_type": "code",
      "metadata": {
        "id": "eOH93GEgfZau",
        "colab_type": "code",
        "colab": {}
      },
      "source": [
        "from keras.utils import to_categorical\n",
        "#convert y to categorical:\n",
        "y_train = to_categorical(y_train, 10)\n",
        "y_test = to_categorical(y_test, 10)"
      ],
      "execution_count": 0,
      "outputs": []
    },
    {
      "cell_type": "code",
      "metadata": {
        "id": "yV0wAXnbhSSy",
        "colab_type": "code",
        "colab": {
          "base_uri": "https://localhost:8080/",
          "height": 34
        },
        "outputId": "349a799d-c7e6-416f-8c94-2d68626ac43f"
      },
      "source": [
        "x_train.shape"
      ],
      "execution_count": 81,
      "outputs": [
        {
          "output_type": "execute_result",
          "data": {
            "text/plain": [
              "(60000, 28, 28)"
            ]
          },
          "metadata": {
            "tags": []
          },
          "execution_count": 81
        }
      ]
    },
    {
      "cell_type": "code",
      "metadata": {
        "id": "FtDuJK9RfZdw",
        "colab_type": "code",
        "colab": {}
      },
      "source": [
        "\n",
        "x_train = x_train.reshape(x_train.shape[0], 784)\n",
        "x_test = x_test.reshape(x_test.shape[0], 784)\n",
        "\n",
        "# Normalize Our Data\n",
        "x_train = x_train / 255\n",
        "x_test = x_test / 255"
      ],
      "execution_count": 0,
      "outputs": []
    },
    {
      "cell_type": "code",
      "metadata": {
        "id": "THciMUD9fZfe",
        "colab_type": "code",
        "colab": {
          "base_uri": "https://localhost:8080/",
          "height": 289
        },
        "outputId": "1281503a-0fb8-4d15-9035-9d6647daf807"
      },
      "source": [
        "model = Sequential(name='Fashion')\n",
        "model.add(Dense(20, input_dim=784, activation='relu'))\n",
        "model.add(Dense(20, activation='relu'))\n",
        "model.add(Dense(20, activation='relu'))\n",
        "model.add(Dense(10, activation='softmax'))\n",
        "\n",
        "model.compile(optimizer='adam',\n",
        "              loss='categorical_crossentropy',\n",
        "              metrics=['accuracy'])\n",
        "model.summary()"
      ],
      "execution_count": 103,
      "outputs": [
        {
          "output_type": "stream",
          "text": [
            "Model: \"Fashion\"\n",
            "_________________________________________________________________\n",
            "Layer (type)                 Output Shape              Param #   \n",
            "=================================================================\n",
            "dense_24 (Dense)             (None, 20)                15700     \n",
            "_________________________________________________________________\n",
            "dense_25 (Dense)             (None, 20)                420       \n",
            "_________________________________________________________________\n",
            "dense_26 (Dense)             (None, 20)                420       \n",
            "_________________________________________________________________\n",
            "dense_27 (Dense)             (None, 10)                210       \n",
            "=================================================================\n",
            "Total params: 16,750\n",
            "Trainable params: 16,750\n",
            "Non-trainable params: 0\n",
            "_________________________________________________________________\n"
          ],
          "name": "stdout"
        }
      ]
    },
    {
      "cell_type": "code",
      "metadata": {
        "id": "Xp_Ko3bsfZiK",
        "colab_type": "code",
        "colab": {
          "base_uri": "https://localhost:8080/",
          "height": 1000
        },
        "outputId": "28212d87-5bdc-45b8-d864-f0c00d407c31"
      },
      "source": [
        "history = model.fit(x_train, y_train, epochs=100, validation_split=.10, verbose=1,\n",
        "                    batch_size=6000)"
      ],
      "execution_count": 105,
      "outputs": [
        {
          "output_type": "stream",
          "text": [
            "Train on 54000 samples, validate on 6000 samples\n",
            "Epoch 1/100\n",
            "54000/54000 [==============================] - 0s 9us/sample - loss: 0.7618 - acc: 0.7631 - val_loss: 0.7070 - val_acc: 0.7815\n",
            "Epoch 2/100\n",
            "54000/54000 [==============================] - 0s 8us/sample - loss: 0.6815 - acc: 0.7835 - val_loss: 0.6412 - val_acc: 0.7997\n",
            "Epoch 3/100\n",
            "54000/54000 [==============================] - 0s 8us/sample - loss: 0.6253 - acc: 0.7994 - val_loss: 0.5989 - val_acc: 0.8050\n",
            "Epoch 4/100\n",
            "54000/54000 [==============================] - 0s 8us/sample - loss: 0.5863 - acc: 0.8099 - val_loss: 0.5685 - val_acc: 0.8120\n",
            "Epoch 5/100\n",
            "54000/54000 [==============================] - 0s 8us/sample - loss: 0.5563 - acc: 0.8184 - val_loss: 0.5454 - val_acc: 0.8187\n",
            "Epoch 6/100\n",
            "54000/54000 [==============================] - 0s 8us/sample - loss: 0.5345 - acc: 0.8231 - val_loss: 0.5312 - val_acc: 0.8203\n",
            "Epoch 7/100\n",
            "54000/54000 [==============================] - 0s 8us/sample - loss: 0.5177 - acc: 0.8286 - val_loss: 0.5143 - val_acc: 0.8227\n",
            "Epoch 8/100\n",
            "54000/54000 [==============================] - 0s 8us/sample - loss: 0.5039 - acc: 0.8315 - val_loss: 0.5012 - val_acc: 0.8278\n",
            "Epoch 9/100\n",
            "54000/54000 [==============================] - 0s 8us/sample - loss: 0.4912 - acc: 0.8352 - val_loss: 0.4927 - val_acc: 0.8293\n",
            "Epoch 10/100\n",
            "54000/54000 [==============================] - 0s 8us/sample - loss: 0.4803 - acc: 0.8374 - val_loss: 0.4837 - val_acc: 0.8322\n",
            "Epoch 11/100\n",
            "54000/54000 [==============================] - 0s 8us/sample - loss: 0.4714 - acc: 0.8399 - val_loss: 0.4748 - val_acc: 0.8332\n",
            "Epoch 12/100\n",
            "54000/54000 [==============================] - 0s 8us/sample - loss: 0.4632 - acc: 0.8410 - val_loss: 0.4702 - val_acc: 0.8338\n",
            "Epoch 13/100\n",
            "54000/54000 [==============================] - 0s 9us/sample - loss: 0.4560 - acc: 0.8433 - val_loss: 0.4655 - val_acc: 0.8370\n",
            "Epoch 14/100\n",
            "54000/54000 [==============================] - 0s 8us/sample - loss: 0.4491 - acc: 0.8461 - val_loss: 0.4564 - val_acc: 0.8393\n",
            "Epoch 15/100\n",
            "54000/54000 [==============================] - 0s 8us/sample - loss: 0.4432 - acc: 0.8478 - val_loss: 0.4529 - val_acc: 0.8405\n",
            "Epoch 16/100\n",
            "54000/54000 [==============================] - 0s 8us/sample - loss: 0.4378 - acc: 0.8497 - val_loss: 0.4481 - val_acc: 0.8437\n",
            "Epoch 17/100\n",
            "54000/54000 [==============================] - 0s 8us/sample - loss: 0.4325 - acc: 0.8515 - val_loss: 0.4456 - val_acc: 0.8442\n",
            "Epoch 18/100\n",
            "54000/54000 [==============================] - 0s 8us/sample - loss: 0.4288 - acc: 0.8531 - val_loss: 0.4394 - val_acc: 0.8443\n",
            "Epoch 19/100\n",
            "54000/54000 [==============================] - 0s 8us/sample - loss: 0.4249 - acc: 0.8539 - val_loss: 0.4381 - val_acc: 0.8467\n",
            "Epoch 20/100\n",
            "54000/54000 [==============================] - 0s 8us/sample - loss: 0.4206 - acc: 0.8552 - val_loss: 0.4382 - val_acc: 0.8463\n",
            "Epoch 21/100\n",
            "54000/54000 [==============================] - 0s 8us/sample - loss: 0.4174 - acc: 0.8559 - val_loss: 0.4333 - val_acc: 0.8480\n",
            "Epoch 22/100\n",
            "54000/54000 [==============================] - 0s 8us/sample - loss: 0.4134 - acc: 0.8568 - val_loss: 0.4300 - val_acc: 0.8493\n",
            "Epoch 23/100\n",
            "54000/54000 [==============================] - 0s 8us/sample - loss: 0.4107 - acc: 0.8576 - val_loss: 0.4260 - val_acc: 0.8483\n",
            "Epoch 24/100\n",
            "54000/54000 [==============================] - 0s 8us/sample - loss: 0.4069 - acc: 0.8587 - val_loss: 0.4226 - val_acc: 0.8518\n",
            "Epoch 25/100\n",
            "54000/54000 [==============================] - 0s 8us/sample - loss: 0.4036 - acc: 0.8605 - val_loss: 0.4206 - val_acc: 0.8540\n",
            "Epoch 26/100\n",
            "54000/54000 [==============================] - 0s 8us/sample - loss: 0.4010 - acc: 0.8602 - val_loss: 0.4191 - val_acc: 0.8518\n",
            "Epoch 27/100\n",
            "54000/54000 [==============================] - 0s 9us/sample - loss: 0.3991 - acc: 0.8614 - val_loss: 0.4184 - val_acc: 0.8520\n",
            "Epoch 28/100\n",
            "54000/54000 [==============================] - 0s 8us/sample - loss: 0.3970 - acc: 0.8615 - val_loss: 0.4200 - val_acc: 0.8523\n",
            "Epoch 29/100\n",
            "54000/54000 [==============================] - 0s 8us/sample - loss: 0.3954 - acc: 0.8616 - val_loss: 0.4146 - val_acc: 0.8545\n",
            "Epoch 30/100\n",
            "54000/54000 [==============================] - 0s 8us/sample - loss: 0.3917 - acc: 0.8628 - val_loss: 0.4113 - val_acc: 0.8550\n",
            "Epoch 31/100\n",
            "54000/54000 [==============================] - 0s 8us/sample - loss: 0.3888 - acc: 0.8643 - val_loss: 0.4160 - val_acc: 0.8563\n",
            "Epoch 32/100\n",
            "54000/54000 [==============================] - 0s 8us/sample - loss: 0.3877 - acc: 0.8646 - val_loss: 0.4107 - val_acc: 0.8535\n",
            "Epoch 33/100\n",
            "54000/54000 [==============================] - 0s 8us/sample - loss: 0.3853 - acc: 0.8647 - val_loss: 0.4060 - val_acc: 0.8583\n",
            "Epoch 34/100\n",
            "54000/54000 [==============================] - 0s 8us/sample - loss: 0.3835 - acc: 0.8654 - val_loss: 0.4059 - val_acc: 0.8580\n",
            "Epoch 35/100\n",
            "54000/54000 [==============================] - 0s 8us/sample - loss: 0.3814 - acc: 0.8664 - val_loss: 0.4042 - val_acc: 0.8577\n",
            "Epoch 36/100\n",
            "54000/54000 [==============================] - 0s 8us/sample - loss: 0.3785 - acc: 0.8673 - val_loss: 0.4008 - val_acc: 0.8582\n",
            "Epoch 37/100\n",
            "54000/54000 [==============================] - 0s 8us/sample - loss: 0.3783 - acc: 0.8668 - val_loss: 0.3989 - val_acc: 0.8582\n",
            "Epoch 38/100\n",
            "54000/54000 [==============================] - 0s 8us/sample - loss: 0.3757 - acc: 0.8679 - val_loss: 0.3996 - val_acc: 0.8595\n",
            "Epoch 39/100\n",
            "54000/54000 [==============================] - 0s 8us/sample - loss: 0.3740 - acc: 0.8693 - val_loss: 0.4019 - val_acc: 0.8608\n",
            "Epoch 40/100\n",
            "54000/54000 [==============================] - 0s 8us/sample - loss: 0.3733 - acc: 0.8682 - val_loss: 0.3999 - val_acc: 0.8578\n",
            "Epoch 41/100\n",
            "54000/54000 [==============================] - 0s 8us/sample - loss: 0.3716 - acc: 0.8693 - val_loss: 0.3948 - val_acc: 0.8585\n",
            "Epoch 42/100\n",
            "54000/54000 [==============================] - 0s 8us/sample - loss: 0.3689 - acc: 0.8695 - val_loss: 0.3954 - val_acc: 0.8617\n",
            "Epoch 43/100\n",
            "54000/54000 [==============================] - 0s 9us/sample - loss: 0.3665 - acc: 0.8704 - val_loss: 0.3946 - val_acc: 0.8598\n",
            "Epoch 44/100\n",
            "54000/54000 [==============================] - 0s 8us/sample - loss: 0.3657 - acc: 0.8711 - val_loss: 0.3950 - val_acc: 0.8623\n",
            "Epoch 45/100\n",
            "54000/54000 [==============================] - 0s 8us/sample - loss: 0.3647 - acc: 0.8713 - val_loss: 0.3932 - val_acc: 0.8575\n",
            "Epoch 46/100\n",
            "54000/54000 [==============================] - 0s 8us/sample - loss: 0.3627 - acc: 0.8716 - val_loss: 0.3931 - val_acc: 0.8623\n",
            "Epoch 47/100\n",
            "54000/54000 [==============================] - 0s 8us/sample - loss: 0.3609 - acc: 0.8720 - val_loss: 0.3922 - val_acc: 0.8632\n",
            "Epoch 48/100\n",
            "54000/54000 [==============================] - 0s 8us/sample - loss: 0.3599 - acc: 0.8724 - val_loss: 0.3903 - val_acc: 0.8615\n",
            "Epoch 49/100\n",
            "54000/54000 [==============================] - 0s 8us/sample - loss: 0.3588 - acc: 0.8727 - val_loss: 0.3891 - val_acc: 0.8633\n",
            "Epoch 50/100\n",
            "54000/54000 [==============================] - 0s 9us/sample - loss: 0.3583 - acc: 0.8737 - val_loss: 0.3866 - val_acc: 0.8625\n",
            "Epoch 51/100\n",
            "54000/54000 [==============================] - 0s 8us/sample - loss: 0.3572 - acc: 0.8739 - val_loss: 0.3913 - val_acc: 0.8600\n",
            "Epoch 52/100\n",
            "54000/54000 [==============================] - 0s 8us/sample - loss: 0.3564 - acc: 0.8744 - val_loss: 0.3879 - val_acc: 0.8622\n",
            "Epoch 53/100\n",
            "54000/54000 [==============================] - 0s 9us/sample - loss: 0.3539 - acc: 0.8747 - val_loss: 0.3871 - val_acc: 0.8617\n",
            "Epoch 54/100\n",
            "54000/54000 [==============================] - 0s 8us/sample - loss: 0.3517 - acc: 0.8752 - val_loss: 0.3863 - val_acc: 0.8647\n",
            "Epoch 55/100\n",
            "54000/54000 [==============================] - 0s 8us/sample - loss: 0.3498 - acc: 0.8763 - val_loss: 0.3849 - val_acc: 0.8650\n",
            "Epoch 56/100\n",
            "54000/54000 [==============================] - 0s 8us/sample - loss: 0.3490 - acc: 0.8763 - val_loss: 0.3811 - val_acc: 0.8638\n",
            "Epoch 57/100\n",
            "54000/54000 [==============================] - 0s 8us/sample - loss: 0.3486 - acc: 0.8768 - val_loss: 0.3823 - val_acc: 0.8628\n",
            "Epoch 58/100\n",
            "54000/54000 [==============================] - 0s 8us/sample - loss: 0.3484 - acc: 0.8767 - val_loss: 0.3855 - val_acc: 0.8635\n",
            "Epoch 59/100\n",
            "54000/54000 [==============================] - 0s 8us/sample - loss: 0.3473 - acc: 0.8762 - val_loss: 0.3817 - val_acc: 0.8638\n",
            "Epoch 60/100\n",
            "54000/54000 [==============================] - 0s 8us/sample - loss: 0.3463 - acc: 0.8764 - val_loss: 0.3817 - val_acc: 0.8643\n",
            "Epoch 61/100\n",
            "54000/54000 [==============================] - 0s 8us/sample - loss: 0.3441 - acc: 0.8779 - val_loss: 0.3832 - val_acc: 0.8665\n",
            "Epoch 62/100\n",
            "54000/54000 [==============================] - 0s 8us/sample - loss: 0.3428 - acc: 0.8788 - val_loss: 0.3787 - val_acc: 0.8655\n",
            "Epoch 63/100\n",
            "54000/54000 [==============================] - 0s 8us/sample - loss: 0.3427 - acc: 0.8786 - val_loss: 0.3814 - val_acc: 0.8662\n",
            "Epoch 64/100\n",
            "54000/54000 [==============================] - 0s 8us/sample - loss: 0.3404 - acc: 0.8790 - val_loss: 0.3795 - val_acc: 0.8652\n",
            "Epoch 65/100\n",
            "54000/54000 [==============================] - 0s 8us/sample - loss: 0.3391 - acc: 0.8799 - val_loss: 0.3780 - val_acc: 0.8655\n",
            "Epoch 66/100\n",
            "54000/54000 [==============================] - 0s 9us/sample - loss: 0.3389 - acc: 0.8805 - val_loss: 0.3780 - val_acc: 0.8670\n",
            "Epoch 67/100\n",
            "54000/54000 [==============================] - 0s 8us/sample - loss: 0.3384 - acc: 0.8800 - val_loss: 0.3790 - val_acc: 0.8658\n",
            "Epoch 68/100\n",
            "54000/54000 [==============================] - 0s 8us/sample - loss: 0.3394 - acc: 0.8803 - val_loss: 0.3819 - val_acc: 0.8678\n",
            "Epoch 69/100\n",
            "54000/54000 [==============================] - 0s 8us/sample - loss: 0.3376 - acc: 0.8802 - val_loss: 0.3782 - val_acc: 0.8623\n",
            "Epoch 70/100\n",
            "54000/54000 [==============================] - 0s 8us/sample - loss: 0.3386 - acc: 0.8800 - val_loss: 0.3769 - val_acc: 0.8663\n",
            "Epoch 71/100\n",
            "54000/54000 [==============================] - 0s 8us/sample - loss: 0.3343 - acc: 0.8816 - val_loss: 0.3746 - val_acc: 0.8667\n",
            "Epoch 72/100\n",
            "54000/54000 [==============================] - 0s 8us/sample - loss: 0.3332 - acc: 0.8820 - val_loss: 0.3778 - val_acc: 0.8655\n",
            "Epoch 73/100\n",
            "54000/54000 [==============================] - 0s 8us/sample - loss: 0.3325 - acc: 0.8824 - val_loss: 0.3731 - val_acc: 0.8680\n",
            "Epoch 74/100\n",
            "54000/54000 [==============================] - 0s 8us/sample - loss: 0.3318 - acc: 0.8821 - val_loss: 0.3730 - val_acc: 0.8672\n",
            "Epoch 75/100\n",
            "54000/54000 [==============================] - 0s 9us/sample - loss: 0.3327 - acc: 0.8825 - val_loss: 0.3840 - val_acc: 0.8612\n",
            "Epoch 76/100\n",
            "54000/54000 [==============================] - 0s 8us/sample - loss: 0.3314 - acc: 0.8818 - val_loss: 0.3716 - val_acc: 0.8702\n",
            "Epoch 77/100\n",
            "54000/54000 [==============================] - 0s 8us/sample - loss: 0.3293 - acc: 0.8834 - val_loss: 0.3739 - val_acc: 0.8650\n",
            "Epoch 78/100\n",
            "54000/54000 [==============================] - 0s 8us/sample - loss: 0.3293 - acc: 0.8836 - val_loss: 0.3736 - val_acc: 0.8677\n",
            "Epoch 79/100\n",
            "54000/54000 [==============================] - 0s 8us/sample - loss: 0.3280 - acc: 0.8834 - val_loss: 0.3723 - val_acc: 0.8702\n",
            "Epoch 80/100\n",
            "54000/54000 [==============================] - 0s 8us/sample - loss: 0.3269 - acc: 0.8844 - val_loss: 0.3725 - val_acc: 0.8668\n",
            "Epoch 81/100\n",
            "54000/54000 [==============================] - 0s 8us/sample - loss: 0.3257 - acc: 0.8844 - val_loss: 0.3730 - val_acc: 0.8702\n",
            "Epoch 82/100\n",
            "54000/54000 [==============================] - 0s 8us/sample - loss: 0.3250 - acc: 0.8845 - val_loss: 0.3698 - val_acc: 0.8692\n",
            "Epoch 83/100\n",
            "54000/54000 [==============================] - 0s 8us/sample - loss: 0.3242 - acc: 0.8850 - val_loss: 0.3675 - val_acc: 0.8707\n",
            "Epoch 84/100\n",
            "54000/54000 [==============================] - 0s 8us/sample - loss: 0.3229 - acc: 0.8855 - val_loss: 0.3693 - val_acc: 0.8705\n",
            "Epoch 85/100\n",
            "54000/54000 [==============================] - 0s 8us/sample - loss: 0.3219 - acc: 0.8858 - val_loss: 0.3669 - val_acc: 0.8700\n",
            "Epoch 86/100\n",
            "54000/54000 [==============================] - 0s 8us/sample - loss: 0.3220 - acc: 0.8850 - val_loss: 0.3728 - val_acc: 0.8692\n",
            "Epoch 87/100\n",
            "54000/54000 [==============================] - 0s 8us/sample - loss: 0.3209 - acc: 0.8861 - val_loss: 0.3696 - val_acc: 0.8725\n",
            "Epoch 88/100\n",
            "54000/54000 [==============================] - 0s 8us/sample - loss: 0.3227 - acc: 0.8848 - val_loss: 0.3731 - val_acc: 0.8687\n",
            "Epoch 89/100\n",
            "54000/54000 [==============================] - 0s 8us/sample - loss: 0.3215 - acc: 0.8859 - val_loss: 0.3679 - val_acc: 0.8720\n",
            "Epoch 90/100\n",
            "54000/54000 [==============================] - 0s 8us/sample - loss: 0.3185 - acc: 0.8870 - val_loss: 0.3714 - val_acc: 0.8702\n",
            "Epoch 91/100\n",
            "54000/54000 [==============================] - 0s 8us/sample - loss: 0.3194 - acc: 0.8865 - val_loss: 0.3671 - val_acc: 0.8698\n",
            "Epoch 92/100\n",
            "54000/54000 [==============================] - 0s 8us/sample - loss: 0.3175 - acc: 0.8868 - val_loss: 0.3683 - val_acc: 0.8710\n",
            "Epoch 93/100\n",
            "54000/54000 [==============================] - 0s 8us/sample - loss: 0.3173 - acc: 0.8871 - val_loss: 0.3693 - val_acc: 0.8695\n",
            "Epoch 94/100\n",
            "54000/54000 [==============================] - 0s 8us/sample - loss: 0.3164 - acc: 0.8881 - val_loss: 0.3663 - val_acc: 0.8688\n",
            "Epoch 95/100\n",
            "54000/54000 [==============================] - 0s 8us/sample - loss: 0.3148 - acc: 0.8877 - val_loss: 0.3681 - val_acc: 0.8710\n",
            "Epoch 96/100\n",
            "54000/54000 [==============================] - 0s 8us/sample - loss: 0.3150 - acc: 0.8883 - val_loss: 0.3731 - val_acc: 0.8695\n",
            "Epoch 97/100\n",
            "54000/54000 [==============================] - 0s 8us/sample - loss: 0.3172 - acc: 0.8868 - val_loss: 0.3646 - val_acc: 0.8722\n",
            "Epoch 98/100\n",
            "54000/54000 [==============================] - 0s 8us/sample - loss: 0.3141 - acc: 0.8886 - val_loss: 0.3700 - val_acc: 0.8703\n",
            "Epoch 99/100\n",
            "54000/54000 [==============================] - 0s 9us/sample - loss: 0.3127 - acc: 0.8899 - val_loss: 0.3693 - val_acc: 0.8718\n",
            "Epoch 100/100\n",
            "54000/54000 [==============================] - 0s 8us/sample - loss: 0.3117 - acc: 0.8895 - val_loss: 0.3644 - val_acc: 0.8700\n"
          ],
          "name": "stdout"
        }
      ]
    },
    {
      "cell_type": "code",
      "metadata": {
        "id": "BJIZBraOfZk0",
        "colab_type": "code",
        "colab": {
          "base_uri": "https://localhost:8080/",
          "height": 51
        },
        "outputId": "e1824e70-ecd9-4bd2-dd53-9e7cfc4409ae"
      },
      "source": [
        "scores = model.evaluate(x_test, y_test)\n",
        "print(f'{model.metrics_names[1]}: {scores[1]*100}')"
      ],
      "execution_count": 114,
      "outputs": [
        {
          "output_type": "stream",
          "text": [
            "10000/10000 [==============================] - 0s 33us/sample - loss: 0.3880 - acc: 0.8629\n",
            "acc: 86.29000186920166\n"
          ],
          "name": "stdout"
        }
      ]
    },
    {
      "cell_type": "code",
      "metadata": {
        "id": "9RzAHdwgfZnO",
        "colab_type": "code",
        "colab": {
          "base_uri": "https://localhost:8080/",
          "height": 265
        },
        "outputId": "5b93995e-75b2-42c6-c5a4-b36f40c93e76"
      },
      "source": [
        "plt.plot(history.epoch, history.history['loss']);"
      ],
      "execution_count": 106,
      "outputs": [
        {
          "output_type": "display_data",
          "data": {
            "image/png": "[encoded data removed]",
            "text/plain": [
              "<Figure size 432x288 with 1 Axes>"
            ]
          },
          "metadata": {
            "tags": []
          }
        }
      ]
    },
    {
      "cell_type": "code",
      "metadata": {
        "id": "3Et3VTp6mKWA",
        "colab_type": "code",
        "colab": {
          "base_uri": "https://localhost:8080/",
          "height": 265
        },
        "outputId": "c45b0741-d662-4c4e-ba8b-fe9b8dac36b8"
      },
      "source": [
        "plt.plot(history.epoch, history.history['val_loss']);"
      ],
      "execution_count": 112,
      "outputs": [
        {
          "output_type": "display_data",
          "data": {
            "image/png": "[encoded data removed]",
            "text/plain": [
              "<Figure size 432x288 with 1 Axes>"
            ]
          },
          "metadata": {
            "tags": []
          }
        }
      ]
    },
    {
      "cell_type": "code",
      "metadata": {
        "id": "w5k_tidSfZpz",
        "colab_type": "code",
        "colab": {
          "base_uri": "https://localhost:8080/",
          "height": 265
        },
        "outputId": "71a84a74-ae1c-4d3a-c71f-ff56c5ffa9b1"
      },
      "source": [
        "plt.plot(history.epoch, history.history['acc']);"
      ],
      "execution_count": 108,
      "outputs": [
        {
          "output_type": "display_data",
          "data": {
            "image/png": "[encoded data removed]",
            "text/plain": [
              "<Figure size 432x288 with 1 Axes>"
            ]
          },
          "metadata": {
            "tags": []
          }
        }
      ]
    },
    {
      "cell_type": "code",
      "metadata": {
        "id": "-l7j2sF_fZsS",
        "colab_type": "code",
        "colab": {
          "base_uri": "https://localhost:8080/",
          "height": 265
        },
        "outputId": "9cd165df-d5b4-4c63-b490-4dc901c4c699"
      },
      "source": [
        "plt.plot(history.epoch, history.history['val_acc']);"
      ],
      "execution_count": 111,
      "outputs": [
        {
          "output_type": "display_data",
          "data": {
            "image/png": "[encoded data removed]",
            "text/plain": [
              "<Figure size 432x288 with 1 Axes>"
            ]
          },
          "metadata": {
            "tags": []
          }
        }
      ]
    },
    {
      "cell_type": "code",
      "metadata": {
        "id": "JQrlrRiPfZv-",
        "colab_type": "code",
        "colab": {}
      },
      "source": [
        ""
      ],
      "execution_count": 0,
      "outputs": []
    },
    {
      "cell_type": "markdown",
      "metadata": {
        "colab_type": "text",
        "id": "zv_3xNMjzdLI"
      },
      "source": [
        "## Stretch Goals:\n",
        "\n",
        "- Use Hyperparameter Tuning to make the accuracy of your models as high as possible. (error as low as possible)\n",
        "- Use Cross Validation techniques to get more consistent results with your model.\n",
        "- Use GridSearchCV to try different combinations of hyperparameters. \n",
        "- Start looking into other types of Keras layers for CNNs and RNNs maybe try and build a CNN model for fashion-MNIST to see how the results compare."
      ]
    }
  ]
}